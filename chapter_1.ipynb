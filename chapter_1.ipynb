{
  "nbformat": 4,
  "nbformat_minor": 0,
  "metadata": {
    "colab": {
      "name": "chapter_1.ipynb",
      "provenance": [],
      "include_colab_link": true
    },
    "kernelspec": {
      "name": "python3",
      "display_name": "Python 3"
    },
    "language_info": {
      "name": "python"
    }
  },
  "cells": [
    {
      "cell_type": "markdown",
      "metadata": {
        "id": "view-in-github",
        "colab_type": "text"
      },
      "source": [
        "<a href=\"https://colab.research.google.com/github/koreabao/2022_2/blob/main/chapter_1.ipynb\" target=\"_parent\"><img src=\"https://colab.research.google.com/assets/colab-badge.svg\" alt=\"Open In Colab\"/></a>"
      ]
    },
    {
      "cell_type": "code",
      "source": [
        "!python --version"
      ],
      "metadata": {
        "id": "fGumz97vxVoY",
        "outputId": "7571bde9-cd1f-4e1f-bdde-f7c6da3b80b5",
        "colab": {
          "base_uri": "https://localhost:8080/"
        }
      },
      "execution_count": 1,
      "outputs": [
        {
          "output_type": "stream",
          "name": "stdout",
          "text": [
            "Python 3.7.13\n"
          ]
        }
      ]
    },
    {
      "cell_type": "markdown",
      "source": [
        "#**google colab keyboard** **shotcuts**\n",
        "\n",
        "##Shift + Enter : 셀이 실행되고 커서(cursor)가 다음셀로 이용합니다.\n",
        "\n",
        "##Ctrl + Enter: 셀리 실행 됩니다.\n",
        "\n",
        "##Enter: 편집 상태로 돌아갑니다.\n",
        "\n",
        "##Ctrl + m + m: 셀이 문서로 변합니다.\n",
        "\n",
        "##Ctrl + m + y: 문서가 셀로 변합니다.\n",
        "\n",
        "##Ctrl + m + d: 셀이 삭제됩니다.\n",
        "\n",
        "##Esc + a: 위에 셀이 추가됩니다.\n",
        "\n",
        "##Esc + b: 아래 셀리 추가됩니다."
      ],
      "metadata": {
        "id": "jX7O7Nz8qvu_"
      }
    },
    {
      "cell_type": "markdown",
      "source": [
        "# **첫 코딩**"
      ],
      "metadata": {
        "id": "zzPhjP8V3fu_"
      }
    },
    {
      "cell_type": "code",
      "execution_count": 2,
      "metadata": {
        "colab": {
          "base_uri": "https://localhost:8080/"
        },
        "id": "0B9_HL3t3Qkt",
        "outputId": "a1e31c2d-519b-4e93-c698-bf2bbb4e00c1"
      },
      "outputs": [
        {
          "output_type": "stream",
          "name": "stdout",
          "text": [
            "Hello Python world!\n"
          ]
        }
      ],
      "source": [
        "print(\"Hello Python world!\")"
      ]
    },
    {
      "cell_type": "code",
      "source": [
        "5*3"
      ],
      "metadata": {
        "id": "3BmDMJsX0OY8",
        "colab": {
          "base_uri": "https://localhost:8080/"
        },
        "outputId": "36ebb13a-e610-4a72-b3ba-0db9c8c2fbe7"
      },
      "execution_count": 3,
      "outputs": [
        {
          "output_type": "execute_result",
          "data": {
            "text/plain": [
              "15"
            ]
          },
          "metadata": {},
          "execution_count": 3
        }
      ]
    },
    {
      "cell_type": "code",
      "source": [
        "5-3"
      ],
      "metadata": {
        "id": "vXwlN5jk0Qnh",
        "colab": {
          "base_uri": "https://localhost:8080/"
        },
        "outputId": "add0005a-cc5e-462f-c207-e5af7dbe7151"
      },
      "execution_count": 4,
      "outputs": [
        {
          "output_type": "execute_result",
          "data": {
            "text/plain": [
              "2"
            ]
          },
          "metadata": {},
          "execution_count": 4
        }
      ]
    },
    {
      "cell_type": "code",
      "source": [
        "5+3"
      ],
      "metadata": {
        "id": "6aOoCrG30RTc",
        "colab": {
          "base_uri": "https://localhost:8080/"
        },
        "outputId": "a250fef1-6841-423f-c0ff-81a38417c3b7"
      },
      "execution_count": 5,
      "outputs": [
        {
          "output_type": "execute_result",
          "data": {
            "text/plain": [
              "8"
            ]
          },
          "metadata": {},
          "execution_count": 5
        }
      ]
    },
    {
      "cell_type": "code",
      "source": [
        "5/3"
      ],
      "metadata": {
        "id": "mgmzsNa30Ucl",
        "colab": {
          "base_uri": "https://localhost:8080/"
        },
        "outputId": "08c83655-a53c-4f94-b140-0027b2c2bce8"
      },
      "execution_count": 6,
      "outputs": [
        {
          "output_type": "execute_result",
          "data": {
            "text/plain": [
              "1.6666666666666667"
            ]
          },
          "metadata": {},
          "execution_count": 6
        }
      ]
    },
    {
      "cell_type": "code",
      "source": [
        "5**3"
      ],
      "metadata": {
        "id": "kP3gzqQB0WTp",
        "colab": {
          "base_uri": "https://localhost:8080/"
        },
        "outputId": "7dfd1ee0-5536-46f3-a474-d1c2a26f35a3"
      },
      "execution_count": 7,
      "outputs": [
        {
          "output_type": "execute_result",
          "data": {
            "text/plain": [
              "125"
            ]
          },
          "metadata": {},
          "execution_count": 7
        }
      ]
    }
  ]
}