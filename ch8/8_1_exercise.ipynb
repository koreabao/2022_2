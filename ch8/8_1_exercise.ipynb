{
  "nbformat": 4,
  "nbformat_minor": 0,
  "metadata": {
    "colab": {
      "name": "8_1_exercise.ipynb",
      "provenance": [],
      "authorship_tag": "ABX9TyOSPGS5eioGl8W2eBxsJAi+",
      "include_colab_link": true
    },
    "kernelspec": {
      "name": "python3",
      "display_name": "Python 3"
    },
    "language_info": {
      "name": "python"
    }
  },
  "cells": [
    {
      "cell_type": "markdown",
      "metadata": {
        "id": "view-in-github",
        "colab_type": "text"
      },
      "source": [
        "<a href=\"https://colab.research.google.com/github/koreabao/2022_2/blob/main/ch8/8_1_exercise.ipynb\" target=\"_parent\"><img src=\"https://colab.research.google.com/assets/colab-badge.svg\" alt=\"Open In Colab\"/></a>"
      ]
    },
    {
      "cell_type": "markdown",
      "source": [
        "8_1"
      ],
      "metadata": {
        "id": "k_nM5xAxA8jq"
      }
    },
    {
      "cell_type": "code",
      "source": [
        "def display_message():\n",
        "  \"\"\"what you have learned\"\"\"\n",
        "  print(\"I have learned what is function in python.\")\n",
        "\n",
        "display_message()"
      ],
      "metadata": {
        "colab": {
          "base_uri": "https://localhost:8080/"
        },
        "id": "FwNB9HSKBN-i",
        "outputId": "0ce1f3cf-13bd-4fdc-e9df-1b2544a19bae"
      },
      "execution_count": 3,
      "outputs": [
        {
          "output_type": "stream",
          "name": "stdout",
          "text": [
            "I have learned what is function in python.\n"
          ]
        }
      ]
    },
    {
      "cell_type": "markdown",
      "source": [
        "8_2"
      ],
      "metadata": {
        "id": "mfGi1PEPBgQj"
      }
    },
    {
      "cell_type": "code",
      "source": [
        "def favorite_book(title):\n",
        "  \"\"\"what is your favorite book\"\"\"\n",
        "  print(f\"One of my favorite books is {title.title()}.\")\n",
        "\n",
        "favorite_book(\"alice in wonderland\")"
      ],
      "metadata": {
        "colab": {
          "base_uri": "https://localhost:8080/"
        },
        "id": "YOXfIYYLBjZS",
        "outputId": "3f2361c8-1a39-4777-e096-5ce37d656db0"
      },
      "execution_count": 4,
      "outputs": [
        {
          "output_type": "stream",
          "name": "stdout",
          "text": [
            "One of my favorite books is Alice In Wonderland.\n"
          ]
        }
      ]
    }
  ]
}