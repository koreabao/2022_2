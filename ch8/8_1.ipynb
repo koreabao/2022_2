{
  "nbformat": 4,
  "nbformat_minor": 0,
  "metadata": {
    "colab": {
      "name": "8_1.ipynb",
      "provenance": [],
      "authorship_tag": "ABX9TyOM0G5xDQknAve3FKir6CoM",
      "include_colab_link": true
    },
    "kernelspec": {
      "name": "python3",
      "display_name": "Python 3"
    },
    "language_info": {
      "name": "python"
    }
  },
  "cells": [
    {
      "cell_type": "markdown",
      "metadata": {
        "id": "view-in-github",
        "colab_type": "text"
      },
      "source": [
        "<a href=\"https://colab.research.google.com/github/koreabao/2022_2/blob/main/ch8/8_1.ipynb\" target=\"_parent\"><img src=\"https://colab.research.google.com/assets/colab-badge.svg\" alt=\"Open In Colab\"/></a>"
      ]
    },
    {
      "cell_type": "markdown",
      "source": [
        "8.1"
      ],
      "metadata": {
        "id": "x__ysoRG_XKg"
      }
    },
    {
      "cell_type": "code",
      "source": [
        "def greet_user():\n",
        "  \"\"\"simple greeting words\"\"\"\n",
        "  print(\"Hello!\")\n",
        "\n",
        "greet_user()"
      ],
      "metadata": {
        "colab": {
          "base_uri": "https://localhost:8080/"
        },
        "id": "LS85iv5e_eL2",
        "outputId": "7a2b4c97-db10-4db2-ebeb-24d33884d1e4"
      },
      "execution_count": 1,
      "outputs": [
        {
          "output_type": "stream",
          "name": "stdout",
          "text": [
            "Hello!\n"
          ]
        }
      ]
    },
    {
      "cell_type": "markdown",
      "source": [
        "8.1.1"
      ],
      "metadata": {
        "id": "zpj7-wx-_8IG"
      }
    },
    {
      "cell_type": "code",
      "source": [
        "def greet_user(username):\n",
        "  \"\"\"simple greeting words\"\"\"\n",
        "  print(f\"Hello,{username.title()}.\")\n",
        "\n",
        "greet_user('hualong')"
      ],
      "metadata": {
        "colab": {
          "base_uri": "https://localhost:8080/"
        },
        "id": "8MtbBTMW__f8",
        "outputId": "4cb2d356-d4eb-42dd-a480-21c2a7edcff5"
      },
      "execution_count": 6,
      "outputs": [
        {
          "output_type": "stream",
          "name": "stdout",
          "text": [
            "Hello,Hualong.\n"
          ]
        }
      ]
    },
    {
      "cell_type": "markdown",
      "source": [
        "8.1.2\n",
        "\n",
        "y = ax \n",
        "\n",
        "x 는 parameter \n",
        "if x = 5 \n",
        "5 는 argument"
      ],
      "metadata": {
        "id": "8jDULcO4Alig"
      }
    }
  ]
}