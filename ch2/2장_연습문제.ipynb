{
  "nbformat": 4,
  "nbformat_minor": 0,
  "metadata": {
    "colab": {
      "name": "2장 연습문제.ipynb",
      "provenance": [],
      "authorship_tag": "ABX9TyNnJ5GoiBECMHE5cJJtSkAD",
      "include_colab_link": true
    },
    "kernelspec": {
      "name": "python3",
      "display_name": "Python 3"
    },
    "language_info": {
      "name": "python"
    }
  },
  "cells": [
    {
      "cell_type": "markdown",
      "metadata": {
        "id": "view-in-github",
        "colab_type": "text"
      },
      "source": [
        "<a href=\"https://colab.research.google.com/github/koreabao/2022_2/blob/main/ch2/2%EC%9E%A5_%EC%97%B0%EC%8A%B5%EB%AC%B8%EC%A0%9C.ipynb\" target=\"_parent\"><img src=\"https://colab.research.google.com/assets/colab-badge.svg\" alt=\"Open In Colab\"/></a>"
      ]
    },
    {
      "cell_type": "markdown",
      "source": [
        "**다음 연습문제는 프로그램을 각각 따로 만들어서 해결하십시오. 각 프로그램은 표준 파이썬 표기법을 따르는 이름으로 저장하십시오. 즉, 소문자와 밑줄을 써서 simple_message.ipynb와 simple_message.ipynb같은 이름으로 저장하는 겁니다.**"
      ],
      "metadata": {
        "id": "U0da-_WZOaT-"
      }
    },
    {
      "cell_type": "markdown",
      "source": [
        "**2-1.단순한 메시지:**메시지를 변수에 할당하고 그 메시지를 출력하십시오.\n",
        "\n",
        "**2-2.단순한 메시지들:**메시지를 변수에 할당하고 그메시지를 출력하십시오. \n",
        "\n",
        "그리고 변수의 값을 새 메시지로 바꾸고, 새메시지를 출력하십시오. "
      ],
      "metadata": {
        "id": "Ab-ZXK4uOgy4"
      }
    },
    {
      "cell_type": "code",
      "source": [
        "message = \"나는 한국사람 입니다.\"\n",
        "print(message)\n",
        "\n",
        "message = \"나는 중국 사람입니다.\"\n",
        "print(message)"
      ],
      "metadata": {
        "id": "J8fkfniHQpsr",
        "outputId": "abb6affe-e5ef-4d83-dec5-f548d752f880",
        "colab": {
          "base_uri": "https://localhost:8080/"
        }
      },
      "execution_count": 1,
      "outputs": [
        {
          "output_type": "stream",
          "name": "stdout",
          "text": [
            "나는 한국사람 입니다.\n",
            "나는 중국 사람입니다.\n"
          ]
        }
      ]
    }
  ]
}