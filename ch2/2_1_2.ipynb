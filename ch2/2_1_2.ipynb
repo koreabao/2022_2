{
  "nbformat": 4,
  "nbformat_minor": 0,
  "metadata": {
    "colab": {
      "name": "2_1_2.ipynb",
      "provenance": [],
      "include_colab_link": true
    },
    "kernelspec": {
      "name": "python3",
      "display_name": "Python 3"
    },
    "language_info": {
      "name": "python"
    }
  },
  "cells": [
    {
      "cell_type": "markdown",
      "metadata": {
        "id": "view-in-github",
        "colab_type": "text"
      },
      "source": [
        "<a href=\"https://colab.research.google.com/github/koreabao/2022_2/blob/main/ch2/2_1_2.ipynb\" target=\"_parent\"><img src=\"https://colab.research.google.com/assets/colab-badge.svg\" alt=\"Open In Colab\"/></a>"
      ]
    },
    {
      "cell_type": "markdown",
      "source": [
        "## **2.1변수(varables): Think of a variable as a name attached to a particular object(객체,대상)**\n",
        "\n",
        "## **변수를 특정 개체에 연결된 이름으로 생각하십시오**\n",
        "\n",
        "To create a variable, you just assign it a value and then start using it. \n",
        "\n",
        "변수를 생성하려면 값을 할당하고 사용을 시작하면 됩니다.\n",
        "\n",
        "Assignment is done with a single equals sign (=):\n",
        "\n",
        "할당은 등호(=)로 수행됩니다.\n",
        "\n",
        "Every variable is connected to a value, which is the information associated with that variable.\n",
        "\n",
        "모든 변수는 해당 변수와 관련된 정보인 값에 연결됩니다."
      ],
      "metadata": {
        "id": "KC3lIlci34sk"
      }
    },
    {
      "cell_type": "code",
      "execution_count": null,
      "metadata": {
        "colab": {
          "base_uri": "https://localhost:8080/"
        },
        "id": "FCtKnNbY3w-K",
        "outputId": "a2256e2d-4351-4049-e8ff-1b5a355bf660"
      },
      "outputs": [
        {
          "output_type": "stream",
          "name": "stdout",
          "text": [
            "Hello Python world!\n",
            "Hello Python Crash Course world!\n"
          ]
        }
      ],
      "source": [
        "message = \"Hello Python world!\"\n",
        "print(message)\n",
        "\n",
        "message = \"Hello Python Crash Course world!\"\n",
        "print(message)\n"
      ]
    },
    {
      "cell_type": "markdown",
      "source": [
        "## **2.2.1 변수 이름짓기, 사용하기(Naming and Using Variables)**\n",
        "\n",
        "\n",
        "1.   변수 이름에는 글자, 숫자, 밑줄만 쓸 수 있습니다. \n",
        "\n",
        "  변수 이름은 글자나 밑줄로 시작할 수 있지만 숫자로 시작 할 수 는 없습니다.\n",
        "\n",
        " Variable names can contain only letters, numbers, and underscores.\n",
        "   \n",
        "  They can start with a letter or an underscore, but not with a number.\n",
        "\n",
        "2.   변수 이름에는 빈칸을 쓸 수 없습니다.\n",
        " \n",
        " 변수 이름 안에서 단어를 구분해야 할 때는 밑줄을 사용하면 됩니다. \n",
        "\n",
        " Spaces are not allowed in variable names,\n",
        "\n",
        "  but underscores can be used to separate words in variable names.\n",
        "\n",
        "3.   파이썬 키워드나 함수 이름을 변수 이름으로 쓰면 안 됩니다.\n",
        " \n",
        "  즉, print처럼 파이썬이 미리 예약해둔 단어는 쓰면 안됩니다. \n",
        "\n",
        " Avoid using Python keywords and function names as variable names\n",
        "\n",
        "\n",
        "4.   Variable names should be short but descriptive.\n",
        "\n",
        " 변수 이름은 짧으면서 의미가 있어야 합니다.\n",
        " \n",
        "   n보다는 name이 좋고, s_n보다는 student_name이 좋고, length_of_persons_name보다 name_length가 좋습니다. \n",
        "\n",
        "5.   Be careful when using the lowercase letter l and the uppercase letter o\n",
        "because they could be confused with the numbers 1 and 0.\n",
        "\n",
        " 소문자l, 대문자O를 쓸 때는 조심하십시오, 이들은 각각 숫자1, 0과 혼동할 수 있습니다. \n",
        "\n"
      ],
      "metadata": {
        "id": "J3eeRc5R9Vvt"
      }
    },
    {
      "cell_type": "code",
      "source": [
        "dir(__builtins__)"
      ],
      "metadata": {
        "id": "9JjtOmaYRBRO",
        "colab": {
          "base_uri": "https://localhost:8080/"
        },
        "outputId": "89adcd9f-57ee-40c3-9202-219d7a0efa9a"
      },
      "execution_count": 1,
      "outputs": [
        {
          "output_type": "execute_result",
          "data": {
            "text/plain": [
              "['ArithmeticError',\n",
              " 'AssertionError',\n",
              " 'AttributeError',\n",
              " 'BaseException',\n",
              " 'BlockingIOError',\n",
              " 'BrokenPipeError',\n",
              " 'BufferError',\n",
              " 'BytesWarning',\n",
              " 'ChildProcessError',\n",
              " 'ConnectionAbortedError',\n",
              " 'ConnectionError',\n",
              " 'ConnectionRefusedError',\n",
              " 'ConnectionResetError',\n",
              " 'DeprecationWarning',\n",
              " 'EOFError',\n",
              " 'Ellipsis',\n",
              " 'EnvironmentError',\n",
              " 'Exception',\n",
              " 'False',\n",
              " 'FileExistsError',\n",
              " 'FileNotFoundError',\n",
              " 'FloatingPointError',\n",
              " 'FutureWarning',\n",
              " 'GeneratorExit',\n",
              " 'IOError',\n",
              " 'ImportError',\n",
              " 'ImportWarning',\n",
              " 'IndentationError',\n",
              " 'IndexError',\n",
              " 'InterruptedError',\n",
              " 'IsADirectoryError',\n",
              " 'KeyError',\n",
              " 'KeyboardInterrupt',\n",
              " 'LookupError',\n",
              " 'MemoryError',\n",
              " 'ModuleNotFoundError',\n",
              " 'NameError',\n",
              " 'None',\n",
              " 'NotADirectoryError',\n",
              " 'NotImplemented',\n",
              " 'NotImplementedError',\n",
              " 'OSError',\n",
              " 'OverflowError',\n",
              " 'PendingDeprecationWarning',\n",
              " 'PermissionError',\n",
              " 'ProcessLookupError',\n",
              " 'RecursionError',\n",
              " 'ReferenceError',\n",
              " 'ResourceWarning',\n",
              " 'RuntimeError',\n",
              " 'RuntimeWarning',\n",
              " 'StopAsyncIteration',\n",
              " 'StopIteration',\n",
              " 'SyntaxError',\n",
              " 'SyntaxWarning',\n",
              " 'SystemError',\n",
              " 'SystemExit',\n",
              " 'TabError',\n",
              " 'TimeoutError',\n",
              " 'True',\n",
              " 'TypeError',\n",
              " 'UnboundLocalError',\n",
              " 'UnicodeDecodeError',\n",
              " 'UnicodeEncodeError',\n",
              " 'UnicodeError',\n",
              " 'UnicodeTranslateError',\n",
              " 'UnicodeWarning',\n",
              " 'UserWarning',\n",
              " 'ValueError',\n",
              " 'Warning',\n",
              " 'ZeroDivisionError',\n",
              " '__IPYTHON__',\n",
              " '__build_class__',\n",
              " '__debug__',\n",
              " '__doc__',\n",
              " '__import__',\n",
              " '__loader__',\n",
              " '__name__',\n",
              " '__package__',\n",
              " '__spec__',\n",
              " 'abs',\n",
              " 'all',\n",
              " 'any',\n",
              " 'ascii',\n",
              " 'bin',\n",
              " 'bool',\n",
              " 'breakpoint',\n",
              " 'bytearray',\n",
              " 'bytes',\n",
              " 'callable',\n",
              " 'chr',\n",
              " 'classmethod',\n",
              " 'compile',\n",
              " 'complex',\n",
              " 'copyright',\n",
              " 'credits',\n",
              " 'delattr',\n",
              " 'dict',\n",
              " 'dir',\n",
              " 'display',\n",
              " 'divmod',\n",
              " 'dreload',\n",
              " 'enumerate',\n",
              " 'eval',\n",
              " 'exec',\n",
              " 'execfile',\n",
              " 'filter',\n",
              " 'float',\n",
              " 'format',\n",
              " 'frozenset',\n",
              " 'get_ipython',\n",
              " 'getattr',\n",
              " 'globals',\n",
              " 'hasattr',\n",
              " 'hash',\n",
              " 'help',\n",
              " 'hex',\n",
              " 'id',\n",
              " 'input',\n",
              " 'int',\n",
              " 'isinstance',\n",
              " 'issubclass',\n",
              " 'iter',\n",
              " 'len',\n",
              " 'license',\n",
              " 'list',\n",
              " 'locals',\n",
              " 'map',\n",
              " 'max',\n",
              " 'memoryview',\n",
              " 'min',\n",
              " 'next',\n",
              " 'object',\n",
              " 'oct',\n",
              " 'open',\n",
              " 'ord',\n",
              " 'pow',\n",
              " 'print',\n",
              " 'property',\n",
              " 'range',\n",
              " 'repr',\n",
              " 'reversed',\n",
              " 'round',\n",
              " 'runfile',\n",
              " 'set',\n",
              " 'setattr',\n",
              " 'slice',\n",
              " 'sorted',\n",
              " 'staticmethod',\n",
              " 'str',\n",
              " 'sum',\n",
              " 'super',\n",
              " 'tuple',\n",
              " 'type',\n",
              " 'vars',\n",
              " 'zip']"
            ]
          },
          "metadata": {},
          "execution_count": 1
        }
      ]
    },
    {
      "cell_type": "markdown",
      "source": [
        "## **2.2.2 변수를 사용할 때 이름 에러 피하기(Avoiding Name Errors When Using Variables)**"
      ],
      "metadata": {
        "id": "ArwWPz0Ubefb"
      }
    },
    {
      "cell_type": "code",
      "source": [
        "message = \"Hello Python Crash Course world!\"\n",
        "print(mesage)"
      ],
      "metadata": {
        "colab": {
          "base_uri": "https://localhost:8080/",
          "height": 192
        },
        "id": "YMjJ-sRObkb7",
        "outputId": "b53291a7-6f26-47f5-df45-246efe8e3b43"
      },
      "execution_count": 2,
      "outputs": [
        {
          "output_type": "error",
          "ename": "NameError",
          "evalue": "ignored",
          "traceback": [
            "\u001b[0;31m---------------------------------------------------------------------------\u001b[0m",
            "\u001b[0;31mNameError\u001b[0m                                 Traceback (most recent call last)",
            "\u001b[0;32m<ipython-input-2-989cd8218a10>\u001b[0m in \u001b[0;36m<module>\u001b[0;34m()\u001b[0m\n\u001b[1;32m      1\u001b[0m \u001b[0mmessage\u001b[0m \u001b[0;34m=\u001b[0m \u001b[0;34m\"Hello Python Crash Course world!\"\u001b[0m\u001b[0;34m\u001b[0m\u001b[0;34m\u001b[0m\u001b[0m\n\u001b[0;32m----> 2\u001b[0;31m \u001b[0mprint\u001b[0m\u001b[0;34m(\u001b[0m\u001b[0mmesage\u001b[0m\u001b[0;34m)\u001b[0m\u001b[0;34m\u001b[0m\u001b[0;34m\u001b[0m\u001b[0m\n\u001b[0m",
            "\u001b[0;31mNameError\u001b[0m: name 'mesage' is not defined"
          ]
        }
      ]
    },
    {
      "cell_type": "markdown",
      "source": [
        "## **2.2.3변수는 라벨입니다(Variables Are Labels)**\n",
        "\n",
        "변수를 값을 저장할 수 있는 박스레 비유하는 사람도 많습니다. \n",
        "\n",
        " Variables are often described as boxes you can store values in.\n",
        "\n",
        "변수는 라벨이라고 생각하는 편이 훨씬 낮습니다. \n",
        "\n",
        "변수가 값을 참조한다고 생각해도 됩니다. \n",
        "\n",
        "It’s much better to think of variables as labels that you can assign to values.\n",
        "\n",
        "You can also say that a variable references a certain value"
      ],
      "metadata": {
        "id": "CwO8Sj41bvCB"
      }
    },
    {
      "cell_type": "markdown",
      "source": [
        "# **연습**\n",
        "\n",
        "2-1. Simple Message: \n",
        "\n",
        "Assign a message to a variable, and then print that message.\n",
        "\n",
        "변수에 메시지를 할당한 다음 해당 메시지를 피린트합니다.\n",
        "\n",
        "2-2. Simple Messages: \n",
        "\n",
        "Assign a message to a variable, and print that message.\n",
        "\n",
        " Then change the value of the variable to a new message, and print the new\n",
        "message."
      ],
      "metadata": {
        "id": "WZrNfZMTcYEn"
      }
    },
    {
      "cell_type": "code",
      "source": [
        "message = \"나는 한국사람 입니다.\"\n",
        "print(message)\n",
        "\n",
        "message = \"나는 중국 사람입니다.\"\n",
        "print(message)"
      ],
      "metadata": {
        "colab": {
          "base_uri": "https://localhost:8080/"
        },
        "id": "xeYEL96mfB76",
        "outputId": "4984204e-3ddb-4de1-b3b3-238cb6b5f1b8"
      },
      "execution_count": null,
      "outputs": [
        {
          "output_type": "stream",
          "name": "stdout",
          "text": [
            "나는 한국사람 입니다.\n",
            "나는 중국 사람입니다.\n"
          ]
        }
      ]
    }
  ]
}