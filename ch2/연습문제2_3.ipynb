{
  "nbformat": 4,
  "nbformat_minor": 0,
  "metadata": {
    "colab": {
      "name": "연습문제2_3.ipynb",
      "provenance": [],
      "authorship_tag": "ABX9TyOZSPITETNmAS9O8cC5tcHG",
      "include_colab_link": true
    },
    "kernelspec": {
      "name": "python3",
      "display_name": "Python 3"
    },
    "language_info": {
      "name": "python"
    }
  },
  "cells": [
    {
      "cell_type": "markdown",
      "metadata": {
        "id": "view-in-github",
        "colab_type": "text"
      },
      "source": [
        "<a href=\"https://colab.research.google.com/github/koreabao/2022_2/blob/main/ch2/%EC%97%B0%EC%8A%B5%EB%AC%B8%EC%A0%9C2_3.ipynb\" target=\"_parent\"><img src=\"https://colab.research.google.com/assets/colab-badge.svg\" alt=\"Open In Colab\"/></a>"
      ]
    },
    {
      "cell_type": "markdown",
      "source": [
        "2-3. Personal Message: Use a variable to represent a person’s name, and print\n",
        "a message to that person. Your message should be simple, such as, “Hello Eric,\n",
        "would you like to learn some Python today?”\n",
        "\n",
        "**2-3 개인적 메시지**: 사람을 표현하는 변수를 만들고 그 사람에게 전할 메시지를 출력하십시오. 메시지는 “Hello Eric, would you like to learn some Python today?”처럼 단순한 것이어야 합니다. \n",
        "\n",
        "2-4. Name Cases: Use a variable to represent a person’s name, and then print\n",
        "that person’s name in lowercase, uppercase, and title case.\n",
        "\n",
        "**2-4 이름 대소문자**: 사람 이름을 표현하는 변수를 만들고 그 사람의 이름을 소문자, 대문자, 첫 글자만 대문자로 각각 출력하십시오. \n",
        "\n",
        "2-5. Famous Quote: Find a quote from a famous person you admire. Print the\n",
        "quote and the name of its author. Your output should look something like the\n",
        "following, including the quotation marks:\n",
        "\n",
        "**2-5 명언**: 여러분이 존경하는 위인이 남긴 명언을 찾아보십시오. 그 명언과 위인의 이름을 출력하십시오. 출력 결과는 따옴표를 포함해서 다음과 같은 행태여야합니다. \n",
        "\n",
        "*Albert Einstein once said, “A person who never made a mistake never tried anything new.”*\n",
        "\n",
        "2-6. Famous Quote 2: Repeat Exercise 2-5, but this time, represent the\n",
        "famous person’s name using a variable called famous_person. Then compose\n",
        "your message and represent it with a new variable called message. Print your\n",
        "message.\n",
        "\n",
        "**2-6 명언2**: 연습문제 2-5를 반복하되, 이번에는 그 위인의 이름을 famous_person이라는 변수에 저장하십시오. 그리고 명언은 message라는 변수에 저장하십시오. message를 출력하십시오. \n",
        "\n",
        "2-7. Stripping Names: Use a variable to represent a person’s name, and include\n",
        "some whitespace characters at the beginning and end of the name. Make sure\n",
        "you use each character combination, \"\\t\" and \"\\n\", at least once.\n",
        "\n",
        "**2-7 이름에서 공백 제거**: 사람 이름을 표현하는 변수를 만들고 그 이름의 앞뒤에 공백을 적당히 넣으십시오.  \"\\t\" 및 \"\\n\"을 적어도 한번씩은 쓰십시오. \n",
        "\n",
        "이름 주위의 공백이 그대로 있는 상태로 한번 출력하시시오. 다음에는 lstrip(), rstrip(), strip() 메서드를 각 한번씩 사용하면서 이름을 출력하십시오. \n",
        "\n",
        "Print the name once, so the whitespace around the name is displayed.\n",
        "Then print the name using each of the three stripping functions, lstrip(),\n",
        "rstrip(), and strip().\n",
        "\n"
      ],
      "metadata": {
        "id": "R3t9jEMYHneO"
      }
    }
  ]
}